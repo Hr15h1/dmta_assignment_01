{
 "cells": [
  {
   "cell_type": "markdown",
   "id": "3cd9f90d",
   "metadata": {},
   "source": [
    "Document classification using SVM"
   ]
  },
  {
   "cell_type": "markdown",
   "id": "f5858059",
   "metadata": {},
   "source": [
    "The dataset used here is the <b>20 Newsgroups dataset</b>. This dataset contains around 18000 newsgroup posts on 20 topics."
   ]
  },
  {
   "cell_type": "code",
   "execution_count": 12,
   "id": "61cb53c9",
   "metadata": {},
   "outputs": [],
   "source": [
    "import pandas as pd\n",
    "from sklearn.datasets import fetch_20newsgroups\n",
    "from sklearn.feature_extraction.text import TfidfVectorizer\n",
    "from sklearn.svm import SVC\n",
    "from sklearn.model_selection import train_test_split\n",
    "import seaborn as sns\n",
    "import matplotlib.pyplot as plt\n",
    "from nltk.corpus import stopwords\n",
    "import re\n",
    "import nltk\n",
    "from sklearn.metrics import confusion_matrix, classification_report, accuracy_score"
   ]
  },
  {
   "cell_type": "code",
   "execution_count": 26,
   "id": "6069a70e",
   "metadata": {},
   "outputs": [],
   "source": [
    "ng_data = fetch_20newsgroups(subset = \"all\", random_state=42)"
   ]
  },
  {
   "cell_type": "code",
   "execution_count": 28,
   "id": "c23d22d1",
   "metadata": {},
   "outputs": [
    {
     "name": "stderr",
     "output_type": "stream",
     "text": [
      "[nltk_data] Downloading package stopwords to\n",
      "[nltk_data]     /home/hrishikesh/nltk_data...\n",
      "[nltk_data]   Package stopwords is already up-to-date!\n"
     ]
    }
   ],
   "source": [
    "nltk.download('stopwords')\n",
    "stop_words = stopwords.words('english')"
   ]
  },
  {
   "cell_type": "code",
   "execution_count": 29,
   "id": "82233a41",
   "metadata": {},
   "outputs": [
    {
     "name": "stderr",
     "output_type": "stream",
     "text": [
      "[nltk_data] Downloading package punkt_tab to\n",
      "[nltk_data]     /home/hrishikesh/nltk_data...\n",
      "[nltk_data]   Package punkt_tab is already up-to-date!\n"
     ]
    },
    {
     "data": {
      "text/plain": [
       "True"
      ]
     },
     "execution_count": 29,
     "metadata": {},
     "output_type": "execute_result"
    }
   ],
   "source": [
    "nltk.download('punkt_tab')"
   ]
  },
  {
   "cell_type": "code",
   "execution_count": 30,
   "id": "10a81f16",
   "metadata": {},
   "outputs": [
    {
     "name": "stdout",
     "output_type": "stream",
     "text": [
      "From: mblawson@midway.ecn.uoknor.edu (Matthew B Lawson)\n",
      "Subject: Which high-performance VLB video card?\n",
      "Summary: Seek recommendations for VLB video card\n",
      "Nntp-Posting-Host: midway.ecn.uoknor.edu\n",
      "Organization: Engineering Computer Network, University of Oklahoma, Norman, OK, USA\n",
      "Keywords: orchid, stealth, vlb\n",
      "Lines: 21\n",
      "\n",
      "  My brother is in the market for a high-performance video card that supports\n",
      "VESA local bus with 1-2MB RAM.  Does anyone have suggestions/ideas on:\n",
      "\n",
      "  - Diamond Stealth Pro Local Bus\n",
      "\n",
      "  - Orchid Farenheit 1280\n",
      "\n",
      "  - ATI Graphics Ultra Pro\n",
      "\n",
      "  - Any other high-performance VLB card\n",
      "\n",
      "\n",
      "Please post or email.  Thank you!\n",
      "\n",
      "  - Matt\n",
      "\n",
      "-- \n",
      "    |  Matthew B. Lawson <------------> (mblawson@essex.ecn.uoknor.edu)  |   \n",
      "  --+-- \"Now I, Nebuchadnezzar, praise and exalt and glorify the King  --+-- \n",
      "    |   of heaven, because everything he does is right and all his ways  |   \n",
      "    |   are just.\" - Nebuchadnezzar, king of Babylon, 562 B.C.           |   \n",
      "\n"
     ]
    }
   ],
   "source": [
    "print(ng_data[\"data\"][1])"
   ]
  },
  {
   "cell_type": "markdown",
   "id": "e93471b2",
   "metadata": {},
   "source": [
    "Following are the genres of text available in the dataset"
   ]
  },
  {
   "cell_type": "code",
   "execution_count": 31,
   "id": "95cea884",
   "metadata": {},
   "outputs": [
    {
     "name": "stdout",
     "output_type": "stream",
     "text": [
      "alt.atheism\n",
      "comp.graphics\n",
      "comp.os.ms-windows.misc\n",
      "comp.sys.ibm.pc.hardware\n",
      "comp.sys.mac.hardware\n",
      "comp.windows.x\n",
      "misc.forsale\n",
      "rec.autos\n",
      "rec.motorcycles\n",
      "rec.sport.baseball\n",
      "rec.sport.hockey\n",
      "sci.crypt\n",
      "sci.electronics\n",
      "sci.med\n",
      "sci.space\n",
      "soc.religion.christian\n",
      "talk.politics.guns\n",
      "talk.politics.mideast\n",
      "talk.politics.misc\n",
      "talk.religion.misc\n"
     ]
    }
   ],
   "source": [
    "for target in ng_data[\"target_names\"]:\n",
    "    print(target)"
   ]
  },
  {
   "cell_type": "markdown",
   "id": "ae574be8",
   "metadata": {},
   "source": [
    "Preprocessing"
   ]
  },
  {
   "cell_type": "code",
   "execution_count": 32,
   "id": "69057069",
   "metadata": {},
   "outputs": [],
   "source": [
    "def preprocess_text(text):\n",
    "    text = text.lower()\n",
    "    text = re.sub(r'[^a-zA-Z\\s]', '', text)\n",
    "    stop_words = set(stopwords.words('english'))\n",
    "    text = nltk.word_tokenize(text)\n",
    "    text = ' '.join([word for word in text if word not in stop_words])\n",
    "    return text\n",
    "    "
   ]
  },
  {
   "cell_type": "markdown",
   "id": "d0a2074b",
   "metadata": {},
   "source": [
    "The above function is applied for preprocessing the text. The function:\n",
    "1. Converts all text into lower case.\n",
    "2. Removes all punctuations and numbers.\n",
    "3. Tokenizes the text.\n",
    "4. Removes the stopwords from the text "
   ]
  },
  {
   "cell_type": "code",
   "execution_count": 35,
   "id": "1c621914",
   "metadata": {},
   "outputs": [],
   "source": [
    "ng_data_df = pd.DataFrame({'text' : ng_data.data,'target': ng_data.target})"
   ]
  },
  {
   "cell_type": "code",
   "execution_count": 49,
   "id": "4568a1ca",
   "metadata": {},
   "outputs": [
    {
     "name": "stdout",
     "output_type": "stream",
     "text": [
      "Each category has the following number of documents:\n"
     ]
    },
    {
     "data": {
      "text/plain": [
       "<Axes: xlabel='target', ylabel='count'>"
      ]
     },
     "execution_count": 49,
     "metadata": {},
     "output_type": "execute_result"
    },
    {
     "data": {
      "image/png": "[encoded data removed]",
      "text/plain": [
       "<Figure size 1000x600 with 1 Axes>"
      ]
     },
     "metadata": {},
     "output_type": "display_data"
    }
   ],
   "source": [
    "print(\"Each category has the following number of documents:\")\n",
    "plt.figure(figsize=(10, 6))\n",
    "sns.countplot(x='target', data=ng_data_df)"
   ]
  },
  {
   "cell_type": "code",
   "execution_count": 50,
   "id": "d3954959",
   "metadata": {},
   "outputs": [
    {
     "data": {
      "text/html": [
       "<div>\n",
       "<style scoped>\n",
       "    .dataframe tbody tr th:only-of-type {\n",
       "        vertical-align: middle;\n",
       "    }\n",
       "\n",
       "    .dataframe tbody tr th {\n",
       "        vertical-align: top;\n",
       "    }\n",
       "\n",
       "    .dataframe thead th {\n",
       "        text-align: right;\n",
       "    }\n",
       "</style>\n",
       "<table border=\"1\" class=\"dataframe\">\n",
       "  <thead>\n",
       "    <tr style=\"text-align: right;\">\n",
       "      <th></th>\n",
       "      <th>text</th>\n",
       "      <th>target</th>\n",
       "    </tr>\n",
       "  </thead>\n",
       "  <tbody>\n",
       "    <tr>\n",
       "      <th>0</th>\n",
       "      <td>mamatha devineni ratnam mrandrewcmuedu subject...</td>\n",
       "      <td>10</td>\n",
       "    </tr>\n",
       "    <tr>\n",
       "      <th>1</th>\n",
       "      <td>mblawsonmidwayecnuoknoredu matthew b lawson su...</td>\n",
       "      <td>3</td>\n",
       "    </tr>\n",
       "    <tr>\n",
       "      <th>2</th>\n",
       "      <td>hilmierdsvsuse hilmi eren subject armenia says...</td>\n",
       "      <td>17</td>\n",
       "    </tr>\n",
       "    <tr>\n",
       "      <th>3</th>\n",
       "      <td>guydaustinibmcom guy dawson subject ide vs scs...</td>\n",
       "      <td>3</td>\n",
       "    </tr>\n",
       "    <tr>\n",
       "      <th>4</th>\n",
       "      <td>alexander samuel mcdiarmid amoandrewcmuedu sub...</td>\n",
       "      <td>4</td>\n",
       "    </tr>\n",
       "    <tr>\n",
       "      <th>...</th>\n",
       "      <td>...</td>\n",
       "      <td>...</td>\n",
       "    </tr>\n",
       "    <tr>\n",
       "      <th>18841</th>\n",
       "      <td>jimzisfeinfactorycom jim zisfein subject migra...</td>\n",
       "      <td>13</td>\n",
       "    </tr>\n",
       "    <tr>\n",
       "      <th>18842</th>\n",
       "      <td>rdellcbnewsfcbattcom richardbdell subject ques...</td>\n",
       "      <td>12</td>\n",
       "    </tr>\n",
       "    <tr>\n",
       "      <th>18843</th>\n",
       "      <td>westesnetcomcom estes subject mounting cpu coo...</td>\n",
       "      <td>3</td>\n",
       "    </tr>\n",
       "    <tr>\n",
       "      <th>18844</th>\n",
       "      <td>stevehcrlgw steven collins subject sphere poin...</td>\n",
       "      <td>1</td>\n",
       "    </tr>\n",
       "    <tr>\n",
       "      <th>18845</th>\n",
       "      <td>chrissnetcomcom chris silvester subject produc...</td>\n",
       "      <td>7</td>\n",
       "    </tr>\n",
       "  </tbody>\n",
       "</table>\n",
       "<p>18846 rows × 2 columns</p>\n",
       "</div>"
      ],
      "text/plain": [
       "                                                    text  target\n",
       "0      mamatha devineni ratnam mrandrewcmuedu subject...      10\n",
       "1      mblawsonmidwayecnuoknoredu matthew b lawson su...       3\n",
       "2      hilmierdsvsuse hilmi eren subject armenia says...      17\n",
       "3      guydaustinibmcom guy dawson subject ide vs scs...       3\n",
       "4      alexander samuel mcdiarmid amoandrewcmuedu sub...       4\n",
       "...                                                  ...     ...\n",
       "18841  jimzisfeinfactorycom jim zisfein subject migra...      13\n",
       "18842  rdellcbnewsfcbattcom richardbdell subject ques...      12\n",
       "18843  westesnetcomcom estes subject mounting cpu coo...       3\n",
       "18844  stevehcrlgw steven collins subject sphere poin...       1\n",
       "18845  chrissnetcomcom chris silvester subject produc...       7\n",
       "\n",
       "[18846 rows x 2 columns]"
      ]
     },
     "execution_count": 50,
     "metadata": {},
     "output_type": "execute_result"
    }
   ],
   "source": [
    "ng_data_df"
   ]
  },
  {
   "cell_type": "code",
   "execution_count": 39,
   "id": "1432aa6f",
   "metadata": {},
   "outputs": [],
   "source": [
    "ng_data_df[\"text\"] = ng_data_df[\"text\"].apply(preprocess_text)"
   ]
  },
  {
   "cell_type": "code",
   "execution_count": 40,
   "id": "9e4ba803",
   "metadata": {},
   "outputs": [
    {
     "data": {
      "text/html": [
       "<div>\n",
       "<style scoped>\n",
       "    .dataframe tbody tr th:only-of-type {\n",
       "        vertical-align: middle;\n",
       "    }\n",
       "\n",
       "    .dataframe tbody tr th {\n",
       "        vertical-align: top;\n",
       "    }\n",
       "\n",
       "    .dataframe thead th {\n",
       "        text-align: right;\n",
       "    }\n",
       "</style>\n",
       "<table border=\"1\" class=\"dataframe\">\n",
       "  <thead>\n",
       "    <tr style=\"text-align: right;\">\n",
       "      <th></th>\n",
       "      <th>text</th>\n",
       "      <th>target</th>\n",
       "    </tr>\n",
       "  </thead>\n",
       "  <tbody>\n",
       "    <tr>\n",
       "      <th>0</th>\n",
       "      <td>mamatha devineni ratnam mrandrewcmuedu subject...</td>\n",
       "      <td>10</td>\n",
       "    </tr>\n",
       "    <tr>\n",
       "      <th>1</th>\n",
       "      <td>mblawsonmidwayecnuoknoredu matthew b lawson su...</td>\n",
       "      <td>3</td>\n",
       "    </tr>\n",
       "    <tr>\n",
       "      <th>2</th>\n",
       "      <td>hilmierdsvsuse hilmi eren subject armenia says...</td>\n",
       "      <td>17</td>\n",
       "    </tr>\n",
       "    <tr>\n",
       "      <th>3</th>\n",
       "      <td>guydaustinibmcom guy dawson subject ide vs scs...</td>\n",
       "      <td>3</td>\n",
       "    </tr>\n",
       "    <tr>\n",
       "      <th>4</th>\n",
       "      <td>alexander samuel mcdiarmid amoandrewcmuedu sub...</td>\n",
       "      <td>4</td>\n",
       "    </tr>\n",
       "    <tr>\n",
       "      <th>...</th>\n",
       "      <td>...</td>\n",
       "      <td>...</td>\n",
       "    </tr>\n",
       "    <tr>\n",
       "      <th>18841</th>\n",
       "      <td>jimzisfeinfactorycom jim zisfein subject migra...</td>\n",
       "      <td>13</td>\n",
       "    </tr>\n",
       "    <tr>\n",
       "      <th>18842</th>\n",
       "      <td>rdellcbnewsfcbattcom richardbdell subject ques...</td>\n",
       "      <td>12</td>\n",
       "    </tr>\n",
       "    <tr>\n",
       "      <th>18843</th>\n",
       "      <td>westesnetcomcom estes subject mounting cpu coo...</td>\n",
       "      <td>3</td>\n",
       "    </tr>\n",
       "    <tr>\n",
       "      <th>18844</th>\n",
       "      <td>stevehcrlgw steven collins subject sphere poin...</td>\n",
       "      <td>1</td>\n",
       "    </tr>\n",
       "    <tr>\n",
       "      <th>18845</th>\n",
       "      <td>chrissnetcomcom chris silvester subject produc...</td>\n",
       "      <td>7</td>\n",
       "    </tr>\n",
       "  </tbody>\n",
       "</table>\n",
       "<p>18846 rows × 2 columns</p>\n",
       "</div>"
      ],
      "text/plain": [
       "                                                    text  target\n",
       "0      mamatha devineni ratnam mrandrewcmuedu subject...      10\n",
       "1      mblawsonmidwayecnuoknoredu matthew b lawson su...       3\n",
       "2      hilmierdsvsuse hilmi eren subject armenia says...      17\n",
       "3      guydaustinibmcom guy dawson subject ide vs scs...       3\n",
       "4      alexander samuel mcdiarmid amoandrewcmuedu sub...       4\n",
       "...                                                  ...     ...\n",
       "18841  jimzisfeinfactorycom jim zisfein subject migra...      13\n",
       "18842  rdellcbnewsfcbattcom richardbdell subject ques...      12\n",
       "18843  westesnetcomcom estes subject mounting cpu coo...       3\n",
       "18844  stevehcrlgw steven collins subject sphere poin...       1\n",
       "18845  chrissnetcomcom chris silvester subject produc...       7\n",
       "\n",
       "[18846 rows x 2 columns]"
      ]
     },
     "execution_count": 40,
     "metadata": {},
     "output_type": "execute_result"
    }
   ],
   "source": [
    "ng_data_df"
   ]
  },
  {
   "cell_type": "code",
   "execution_count": 41,
   "id": "0a1a3c95",
   "metadata": {},
   "outputs": [],
   "source": [
    "ng_data_df_labels = ng_data_df['target']\n",
    "ng_data_df_text = ng_data_df['text']"
   ]
  },
  {
   "cell_type": "code",
   "execution_count": 42,
   "id": "545b7caa",
   "metadata": {},
   "outputs": [],
   "source": [
    "X_train, X_test, y_train, y_test = train_test_split(ng_data_df[\"text\"], ng_data_df[\"target\"], test_size=0.2, random_state=42)"
   ]
  },
  {
   "cell_type": "code",
   "execution_count": 43,
   "id": "e1661df8",
   "metadata": {},
   "outputs": [],
   "source": [
    "vectorizer = TfidfVectorizer(stop_words=stop_words, max_features=4000)\n",
    "X_train_vec = vectorizer.fit_transform(X_train)\n",
    "X_test_vec = vectorizer.transform(X_test)"
   ]
  }
 ],
 "metadata": {
  "kernelspec": {
   "display_name": "dmta",
   "language": "python",
   "name": "python3"
  },
  "language_info": {
   "codemirror_mode": {
    "name": "ipython",
    "version": 3
   },
   "file_extension": ".py",
   "mimetype": "text/x-python",
   "name": "python",
   "nbconvert_exporter": "python",
   "pygments_lexer": "ipython3",
   "version": "3.12.3"
  }
 },
 "nbformat": 4,
 "nbformat_minor": 5
}
